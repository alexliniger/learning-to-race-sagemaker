{
 "cells": [
  {
   "cell_type": "code",
   "execution_count": null,
   "metadata": {
    "collapsed": true
   },
   "outputs": [],
   "source": [
    "!pip install wandb\n",
    "!wandb login 365a84ddf123ea8d9236af9bcf504ded270575e7\n",
    "\n",
    "import wandb\n",
    "wandb.sagemaker_auth(path='.')"
   ]
  },
  {
   "cell_type": "code",
   "execution_count": null,
   "outputs": [],
   "source": [
    "import json\n",
    "import datetime\n",
    "import sagemaker\n",
    "from sagemaker.pytorch import PyTorch\n",
    "import os\n",
    "\n",
    "experiment_name = 'experiment-meaningful-description'"
   ],
   "metadata": {
    "collapsed": false,
    "pycharm": {
     "name": "#%%\n"
    }
   }
  },
  {
   "cell_type": "code",
   "execution_count": null,
   "outputs": [],
   "source": [
    "config = json.load(open('config.json'))\n",
    "config[\"lr\"] = 3e-4\n",
    "config[\"batch_size\"] = 64\n",
    "config[\"gamma\"] = 0.99\n",
    "config[\"steps\"] = 0.1e6\n",
    "config[\"activation_fn\"] = \"relu\"\n",
    "config[\"net_arch\"] = [256,256]\n",
    "json.dump(config, open('config.json',\"w\"), indent=4)"
   ],
   "metadata": {
    "collapsed": false,
    "pycharm": {
     "name": "#%%\n"
    }
   }
  },
  {
   "cell_type": "code",
   "execution_count": null,
   "outputs": [],
   "source": [
    "estimator = PyTorch(\n",
    "    entry_point='train.py',\n",
    "    source_dir='.',\n",
    "    role=sagemaker.get_execution_role(),\n",
    "    framework_version='1.5.0',\n",
    "    py_version=\"py3\",  # now required\n",
    "    instance_type=\"ml.c4.xlarge\",\n",
    "    instance_count=1,\n",
    "    # volume_size=30,\n",
    "    use_spot_instances=True,\n",
    "    max_run=86000,\n",
    "    max_wait=86400,\n",
    "    debugger_hook_config=False,\n",
    "    hyperparameters={'backend': 'gloo'},\n",
    ")"
   ],
   "metadata": {
    "collapsed": false,
    "pycharm": {
     "name": "#%%\n"
    }
   }
  },
  {
   "cell_type": "code",
   "execution_count": null,
   "outputs": [],
   "source": [
    "estimator.fit(\n",
    "    job_name=experiment_name + datetime.datetime.now().strftime(\"-%Y-%m-%d-%H-%M-%S\"),\n",
    ")"
   ],
   "metadata": {
    "collapsed": false,
    "pycharm": {
     "name": "#%%\n"
    }
   }
  }
 ],
 "metadata": {
  "kernelspec": {
   "display_name": "Python 3",
   "language": "python",
   "name": "python3"
  },
  "language_info": {
   "codemirror_mode": {
    "name": "ipython",
    "version": 2
   },
   "file_extension": ".py",
   "mimetype": "text/x-python",
   "name": "python",
   "nbconvert_exporter": "python",
   "pygments_lexer": "ipython2",
   "version": "2.7.6"
  }
 },
 "nbformat": 4,
 "nbformat_minor": 0
}