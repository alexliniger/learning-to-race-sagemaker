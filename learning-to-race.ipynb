{
 "cells": [
  {
   "cell_type": "code",
   "execution_count": null,
   "metadata": {
    "collapsed": true
   },
   "outputs": [],
   "source": [
    "!pip install wandb\n",
    "!wandb login 365a84ddf123ea8d9236af9bcf504ded270575e7\n",
    "\n",
    "import wandb\n",
    "wandb.sagemaker_auth(path='.')"
   ]
  },
  {
   "cell_type": "code",
   "execution_count": null,
   "outputs": [],
   "source": [
    "import json\n",
    "import datetime\n",
    "import sagemaker\n",
    "from sagemaker.pytorch import PyTorch\n",
    "import os\n",
    "\n",
    "\n",
    "experiment_name = 'experiment-meaningful-description'\n",
    "config = json.loads('{\"lr\":3e-4,\\\n",
    "                          \"steps\":500000,\\\n",
    "                          \"net_arch\":[256,256],\\\n",
    "                          \"seed\": 1,\\\n",
    "                          \"action_obs\": true,\\\n",
    "                          \"activation_fn\": \"relu\",\\\n",
    "                          \"wandb_name\": \"learn_to_race\",\\\n",
    "                          \"eval_freq\": 10000,\\\n",
    "                          \"rollout_steps\": 2048,\\\n",
    "                          \"batch_size\": 64,\\\n",
    "                          \"n_epochs\": 10,\\\n",
    "                          \"gamma\": 0.995}')"
   ],
   "metadata": {
    "collapsed": false,
    "pycharm": {
     "name": "#%%\n"
    }
   }
  },
  {
   "cell_type": "code",
   "execution_count": null,
   "outputs": [],
   "source": [
    "estimator = PyTorch(\n",
    "    entry_point='train.py',\n",
    "    source_dir='.',\n",
    "    role=sagemaker.get_execution_role(),\n",
    "    framework_version='1.5.0',\n",
    "    py_version=\"py3\",  # now required\n",
    "    instance_type=\"ml.c4.xlarge\",\n",
    "    instance_count=1,\n",
    "    # volume_size=30,\n",
    "    # use_spot_instances=True,\n",
    "    # max_run=86000,\n",
    "    # max_wait=86400,\n",
    "    # debugger_hook_config=False,\n",
    "    hyperparameters=config,\n",
    ")"
   ],
   "metadata": {
    "collapsed": false,
    "pycharm": {
     "name": "#%%\n"
    }
   }
  },
  {
   "cell_type": "code",
   "execution_count": null,
   "outputs": [],
   "source": [
    "estimator.fit(\n",
    "    job_name=experiment_name + datetime.datetime.now().strftime(\"-%Y-%m-%d-%H-%M-%S\"),\n",
    ")"
   ],
   "metadata": {
    "collapsed": false,
    "pycharm": {
     "name": "#%%\n"
    }
   }
  }
 ],
 "metadata": {
  "kernelspec": {
   "display_name": "Python 3",
   "language": "python",
   "name": "python3"
  },
  "language_info": {
   "codemirror_mode": {
    "name": "ipython",
    "version": 2
   },
   "file_extension": ".py",
   "mimetype": "text/x-python",
   "name": "python",
   "nbconvert_exporter": "python",
   "pygments_lexer": "ipython2",
   "version": "2.7.6"
  }
 },
 "nbformat": 4,
 "nbformat_minor": 0
}